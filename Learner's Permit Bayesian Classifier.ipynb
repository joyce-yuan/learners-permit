{
 "cells": [
  {
   "cell_type": "code",
   "execution_count": 31,
   "metadata": {},
   "outputs": [],
   "source": [
    "#How to Load CSV File\n",
    "import pandas as pd\n",
    "import sklearn\n",
    "from sklearn.model_selection import train_test_split\n",
    "from sklearn.naive_bayes import GaussianNB\n",
    "from sklearn.metrics import accuracy_score\n",
    "\n",
    "import numpy as np\n",
    "import urllib"
   ]
  },
  {
   "cell_type": "code",
   "execution_count": 32,
   "metadata": {},
   "outputs": [],
   "source": [
    "df = pd.read_csv(\"./data/ML-test-2.csv\", index_col=None)\n",
    "df = df.loc[:, ~df.columns.str.contains('^Unnamed')]"
   ]
  },
  {
   "cell_type": "code",
   "execution_count": 33,
   "metadata": {},
   "outputs": [
    {
     "data": {
      "text/html": [
       "<div>\n",
       "<style scoped>\n",
       "    .dataframe tbody tr th:only-of-type {\n",
       "        vertical-align: middle;\n",
       "    }\n",
       "\n",
       "    .dataframe tbody tr th {\n",
       "        vertical-align: top;\n",
       "    }\n",
       "\n",
       "    .dataframe thead th {\n",
       "        text-align: right;\n",
       "    }\n",
       "</style>\n",
       "<table border=\"1\" class=\"dataframe\">\n",
       "  <thead>\n",
       "    <tr style=\"text-align: right;\">\n",
       "      <th></th>\n",
       "      <th>mainy</th>\n",
       "      <th>mainv</th>\n",
       "      <th>car1x</th>\n",
       "      <th>car1v</th>\n",
       "      <th>car2x</th>\n",
       "      <th>car2v</th>\n",
       "      <th>crash</th>\n",
       "    </tr>\n",
       "  </thead>\n",
       "  <tbody>\n",
       "    <tr>\n",
       "      <th>0</th>\n",
       "      <td>500</td>\n",
       "      <td>40</td>\n",
       "      <td>450.0</td>\n",
       "      <td>40</td>\n",
       "      <td>38.0</td>\n",
       "      <td>40</td>\n",
       "      <td>0</td>\n",
       "    </tr>\n",
       "    <tr>\n",
       "      <th>1</th>\n",
       "      <td>491</td>\n",
       "      <td>40</td>\n",
       "      <td>450.0</td>\n",
       "      <td>40</td>\n",
       "      <td>66.0</td>\n",
       "      <td>40</td>\n",
       "      <td>1</td>\n",
       "    </tr>\n",
       "    <tr>\n",
       "      <th>2</th>\n",
       "      <td>490</td>\n",
       "      <td>40</td>\n",
       "      <td>450.0</td>\n",
       "      <td>40</td>\n",
       "      <td>24.0</td>\n",
       "      <td>40</td>\n",
       "      <td>1</td>\n",
       "    </tr>\n",
       "    <tr>\n",
       "      <th>3</th>\n",
       "      <td>490</td>\n",
       "      <td>40</td>\n",
       "      <td>450.0</td>\n",
       "      <td>40</td>\n",
       "      <td>19.0</td>\n",
       "      <td>40</td>\n",
       "      <td>0</td>\n",
       "    </tr>\n",
       "    <tr>\n",
       "      <th>4</th>\n",
       "      <td>506</td>\n",
       "      <td>50</td>\n",
       "      <td>450.0</td>\n",
       "      <td>40</td>\n",
       "      <td>5.0</td>\n",
       "      <td>40</td>\n",
       "      <td>1</td>\n",
       "    </tr>\n",
       "  </tbody>\n",
       "</table>\n",
       "</div>"
      ],
      "text/plain": [
       "   mainy  mainv  car1x  car1v  car2x  car2v  crash\n",
       "0    500     40  450.0     40   38.0     40      0\n",
       "1    491     40  450.0     40   66.0     40      1\n",
       "2    490     40  450.0     40   24.0     40      1\n",
       "3    490     40  450.0     40   19.0     40      0\n",
       "4    506     50  450.0     40    5.0     40      1"
      ]
     },
     "execution_count": 33,
     "metadata": {},
     "output_type": "execute_result"
    }
   ],
   "source": [
    "df.head()"
   ]
  },
  {
   "cell_type": "code",
   "execution_count": 34,
   "metadata": {},
   "outputs": [
    {
     "data": {
      "text/plain": [
       "RangeIndex(start=0, stop=23, step=1)"
      ]
     },
     "execution_count": 34,
     "metadata": {},
     "output_type": "execute_result"
    }
   ],
   "source": [
    "df.index"
   ]
  },
  {
   "cell_type": "code",
   "execution_count": 35,
   "metadata": {},
   "outputs": [],
   "source": [
    "# df[\"Speed\"]"
   ]
  },
  {
   "cell_type": "code",
   "execution_count": 36,
   "metadata": {},
   "outputs": [
    {
     "data": {
      "text/plain": [
       "['mainy', 'mainv', 'car1x', 'car1v', 'car2x', 'car2v', 'crash']"
      ]
     },
     "execution_count": 36,
     "metadata": {},
     "output_type": "execute_result"
    }
   ],
   "source": [
    "list(df.columns.values)"
   ]
  },
  {
   "cell_type": "code",
   "execution_count": null,
   "metadata": {},
   "outputs": [],
   "source": []
  },
  {
   "cell_type": "code",
   "execution_count": 37,
   "metadata": {},
   "outputs": [
    {
     "name": "stdout",
     "output_type": "stream",
     "text": [
      "   mainy  mainv  car1x  car1v  car2x  car2v\n",
      "0    500     40  450.0     40   38.0     40\n",
      "1    491     40  450.0     40   66.0     40\n",
      "2    490     40  450.0     40   24.0     40\n",
      "3    490     40  450.0     40   19.0     40\n",
      "4    506     50  450.0     40    5.0     40\n"
     ]
    }
   ],
   "source": [
    "#organizing data\n",
    "label_names = list(df.columns[-1:])\n",
    "labels = df[\"crash\"]\n",
    "feature_names = list(df.columns[0:-1])\n",
    "features = df.drop(\"crash\", axis=1)\n",
    "print(features.head())\n",
    "# features = features.reshape(-1, 1)"
   ]
  },
  {
   "cell_type": "code",
   "execution_count": 38,
   "metadata": {},
   "outputs": [
    {
     "name": "stdout",
     "output_type": "stream",
     "text": [
      "['crash']\n",
      "0\n",
      "['mainy', 'mainv', 'car1x', 'car1v', 'car2x', 'car2v']\n",
      "   mainy  mainv  car1x  car1v  car2x  car2v\n",
      "0    500     40  450.0     40   38.0     40\n",
      "1    491     40  450.0     40   66.0     40\n",
      "2    490     40  450.0     40   24.0     40\n",
      "3    490     40  450.0     40   19.0     40\n",
      "4    506     50  450.0     40    5.0     40\n"
     ]
    }
   ],
   "source": [
    "print(label_names)\n",
    "print(labels[0])\n",
    "print(feature_names)\n",
    "print(features.head())"
   ]
  },
  {
   "cell_type": "code",
   "execution_count": 39,
   "metadata": {},
   "outputs": [],
   "source": [
    "# Split our data\n",
    "train, test, train_labels, test_labels = train_test_split(features,\n",
    "                                                          labels,\n",
    "                                                          test_size=0.33,\n",
    "                                                          random_state=42)\n",
    "\n",
    "# Initialize our classifier\n",
    "gnb = GaussianNB()\n",
    "\n",
    "# Train our classifier\n",
    "model = gnb.fit(train, train_labels)"
   ]
  },
  {
   "cell_type": "code",
   "execution_count": 43,
   "metadata": {},
   "outputs": [
    {
     "name": "stdout",
     "output_type": "stream",
     "text": [
      "    mainy  mainv  car1x  car1v  car2x  car2v\n",
      "15    484     50  450.0     50   10.0     40\n",
      "9     493     45  450.0     40  118.0     40\n",
      "0     500     40  450.0     40   38.0     40\n",
      "8     487     45  450.0     40  218.5     40\n",
      "17    488     50  450.0     50   50.0     40\n",
      "12    487     60  450.0     50    7.0     30\n",
      "1     491     40  450.0     40   66.0     40\n",
      "13    496     60  450.0     50   15.0     30\n",
      "[0 0 1 0 0 0 1 0]\n"
     ]
    }
   ],
   "source": [
    "# Make predictions\n",
    "print(test)\n",
    "preds = gnb.predict(test)\n",
    "print(preds)"
   ]
  },
  {
   "cell_type": "code",
   "execution_count": 41,
   "metadata": {},
   "outputs": [
    {
     "name": "stdout",
     "output_type": "stream",
     "text": [
      "0.875\n"
     ]
    }
   ],
   "source": [
    "# Evaluate accuracy\n",
    "print(accuracy_score(test_labels, preds))"
   ]
  },
  {
   "cell_type": "code",
   "execution_count": 42,
   "metadata": {},
   "outputs": [],
   "source": [
    "# Save model\n",
    "import pickle\n",
    "filename = \"./models/first.pickle\"\n",
    "# save model\n",
    "pickle.dump(model, open(filename, \"wb\"))\n",
    "\n",
    "# # load model\n",
    "# loaded_model = pickle.load(open(filename, \"rb\"))"
   ]
  },
  {
   "cell_type": "code",
   "execution_count": null,
   "metadata": {},
   "outputs": [],
   "source": [
    "#### Note the bottom is for 2d arrays"
   ]
  },
  {
   "cell_type": "code",
   "execution_count": 39,
   "metadata": {},
   "outputs": [],
   "source": [
    "#code for speed and duration example\n",
    "df2 = pd.read_csv(\"speed-duration.csv\")\n",
    "\n",
    "#organizing data\n",
    "label_names = list(df2.columns[-1:])\n",
    "labels = df2[\"Crash\"]\n",
    "feature_names = list(df2.columns[0:-1])\n",
    "features = np.array(df2.iloc[:,0:-1])"
   ]
  },
  {
   "cell_type": "code",
   "execution_count": 42,
   "metadata": {},
   "outputs": [
    {
     "name": "stdout",
     "output_type": "stream",
     "text": [
      "[1 1 0 0 1 0 0 1 1 0 0 1 0 1 0 1 0 1 0 0 0 0 0 0 0 1 1 1 0 1 0 0 1 1 0 0 0\n",
      " 0 0 0 0 0 0 0 1 0 1 0 0 1 0 0 1 1 0 0 0 1 1 0 1 1 1 1 1 1]\n",
      "0.9545454545454546\n"
     ]
    }
   ],
   "source": [
    "# Split our data\n",
    "train, test, train_labels, test_labels = train_test_split(features,\n",
    "                                                          labels,\n",
    "                                                          test_size=0.33,\n",
    "                                                          random_state=20)\n",
    "\n",
    "# Initialize our classifier\n",
    "gnb = GaussianNB()\n",
    "\n",
    "# Train our classifier\n",
    "model = gnb.fit(train, train_labels)\n",
    "\n",
    "# Make predictions\n",
    "preds = gnb.predict(test)\n",
    "print(preds)\n",
    "\n",
    "# Evaluate accuracy\n",
    "print(accuracy_score(test_labels, preds))"
   ]
  },
  {
   "cell_type": "code",
   "execution_count": null,
   "metadata": {},
   "outputs": [],
   "source": []
  }
 ],
 "metadata": {
  "kernelspec": {
   "display_name": "Python 3 (ipykernel)",
   "language": "python",
   "name": "python3"
  },
  "language_info": {
   "codemirror_mode": {
    "name": "ipython",
    "version": 3
   },
   "file_extension": ".py",
   "mimetype": "text/x-python",
   "name": "python",
   "nbconvert_exporter": "python",
   "pygments_lexer": "ipython3",
   "version": "3.8.4"
  },
  "vscode": {
   "interpreter": {
    "hash": "397704579725e15f5c7cb49fe5f0341eb7531c82d19f2c29d197e8b64ab5776b"
   }
  }
 },
 "nbformat": 4,
 "nbformat_minor": 4
}
